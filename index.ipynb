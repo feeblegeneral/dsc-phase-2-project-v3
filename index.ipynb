{
 "cells": [
  {
   "cell_type": "markdown",
   "metadata": {},
   "source": [
    "# The types of films you should create"
   ]
  },
  {
   "cell_type": "markdown",
   "metadata": {},
   "source": [
    "#### Author: Caleb Kimondo\n",
    "---"
   ]
  },
  {
   "cell_type": "markdown",
   "metadata": {},
   "source": [
    "## Overview"
   ]
  },
  {
   "cell_type": "markdown",
   "metadata": {},
   "source": [
    "There is an observation of big companies creating original content and my company wants to join on the hype. So, it decided to create a new movie studio. However, it faces one major issue: it doesn't know anything about creating movies. My objective is to explore and find out what films are currently doing the best at the box office and further use these insights to help the head of the company's new movie studio to decide what type of films to create."
   ]
  },
  {
   "cell_type": "markdown",
   "metadata": {},
   "source": [
    "## Data Understanding\n",
    "---"
   ]
  },
  {
   "cell_type": "markdown",
   "metadata": {},
   "source": [
    "Let's import the needed packages."
   ]
  },
  {
   "cell_type": "code",
   "execution_count": 1,
   "metadata": {},
   "outputs": [],
   "source": [
    "# Import standard packages\n",
    "import pandas as pd\n",
    "import numpy as np\n",
    "import matplotlib.pyplot as plt\n",
    "import seaborn as sns\n",
    "import sqlite3\n",
    "\n",
    "%matplotlib inline"
   ]
  },
  {
   "cell_type": "markdown",
   "metadata": {},
   "source": [
    "Below, I am going to create functions that will help us later on."
   ]
  },
  {
   "cell_type": "code",
   "execution_count": 2,
   "metadata": {},
   "outputs": [],
   "source": [
    "# This shows us the number of duplicates and the duplicates in a dataset\n",
    "def duplicates(df, subset):\n",
    "    duplicates = df[df.duplicated(subset=subset)]\n",
    "    print(f\"Number of duplicates: {len(duplicates)}\")\n",
    "    print(\"Duplicates:\")\n",
    "    print(duplicates)\n",
    "    return 0\n",
    "\n",
    "# This shows us the number of null values in the columns of a dataset in terms of percentages\n",
    "def percent_missing(df):\n",
    "    percent_missing_f = df.isnull().sum() * 100 / len(df)\n",
    "    percent_missing_f = percent_missing_f.sort_values(ascending = False)\n",
    "    print (percent_missing_f)\n",
    "    return 0"
   ]
  },
  {
   "cell_type": "markdown",
   "metadata": {},
   "source": [
    "Let's create variables and assign datasets to them so that they will be our dataframes."
   ]
  },
  {
   "cell_type": "code",
   "execution_count": 17,
   "metadata": {},
   "outputs": [],
   "source": [
    "# Create variables to save the datasets\n",
    "gross_income = pd.read_csv('zippedData/bom.movie_gross.csv')\n",
    "\n",
    "# Connect to the database\n",
    "conn = sqlite3.connect('zippedData/im.db')\n",
    "cur = conn.cursor()"
   ]
  },
  {
   "cell_type": "markdown",
   "metadata": {},
   "source": [
    "First, let's view the data sets to understand them at first glance. Secondly, let's dive into the databases and explore their shape and what they contain."
   ]
  },
  {
   "cell_type": "code",
   "execution_count": 4,
   "metadata": {},
   "outputs": [
    {
     "data": {
      "text/html": [
       "<div>\n",
       "<style scoped>\n",
       "    .dataframe tbody tr th:only-of-type {\n",
       "        vertical-align: middle;\n",
       "    }\n",
       "\n",
       "    .dataframe tbody tr th {\n",
       "        vertical-align: top;\n",
       "    }\n",
       "\n",
       "    .dataframe thead th {\n",
       "        text-align: right;\n",
       "    }\n",
       "</style>\n",
       "<table border=\"1\" class=\"dataframe\">\n",
       "  <thead>\n",
       "    <tr style=\"text-align: right;\">\n",
       "      <th></th>\n",
       "      <th>title</th>\n",
       "      <th>studio</th>\n",
       "      <th>domestic_gross</th>\n",
       "      <th>foreign_gross</th>\n",
       "      <th>year</th>\n",
       "    </tr>\n",
       "  </thead>\n",
       "  <tbody>\n",
       "    <tr>\n",
       "      <th>0</th>\n",
       "      <td>Toy Story 3</td>\n",
       "      <td>BV</td>\n",
       "      <td>415000000.0</td>\n",
       "      <td>652000000</td>\n",
       "      <td>2010</td>\n",
       "    </tr>\n",
       "    <tr>\n",
       "      <th>1</th>\n",
       "      <td>Alice in Wonderland (2010)</td>\n",
       "      <td>BV</td>\n",
       "      <td>334200000.0</td>\n",
       "      <td>691300000</td>\n",
       "      <td>2010</td>\n",
       "    </tr>\n",
       "    <tr>\n",
       "      <th>2</th>\n",
       "      <td>Harry Potter and the Deathly Hallows Part 1</td>\n",
       "      <td>WB</td>\n",
       "      <td>296000000.0</td>\n",
       "      <td>664300000</td>\n",
       "      <td>2010</td>\n",
       "    </tr>\n",
       "    <tr>\n",
       "      <th>3</th>\n",
       "      <td>Inception</td>\n",
       "      <td>WB</td>\n",
       "      <td>292600000.0</td>\n",
       "      <td>535700000</td>\n",
       "      <td>2010</td>\n",
       "    </tr>\n",
       "    <tr>\n",
       "      <th>4</th>\n",
       "      <td>Shrek Forever After</td>\n",
       "      <td>P/DW</td>\n",
       "      <td>238700000.0</td>\n",
       "      <td>513900000</td>\n",
       "      <td>2010</td>\n",
       "    </tr>\n",
       "  </tbody>\n",
       "</table>\n",
       "</div>"
      ],
      "text/plain": [
       "                                         title studio  domestic_gross  \\\n",
       "0                                  Toy Story 3     BV     415000000.0   \n",
       "1                   Alice in Wonderland (2010)     BV     334200000.0   \n",
       "2  Harry Potter and the Deathly Hallows Part 1     WB     296000000.0   \n",
       "3                                    Inception     WB     292600000.0   \n",
       "4                          Shrek Forever After   P/DW     238700000.0   \n",
       "\n",
       "  foreign_gross  year  \n",
       "0     652000000  2010  \n",
       "1     691300000  2010  \n",
       "2     664300000  2010  \n",
       "3     535700000  2010  \n",
       "4     513900000  2010  "
      ]
     },
     "execution_count": 4,
     "metadata": {},
     "output_type": "execute_result"
    }
   ],
   "source": [
    "# View the data sets\n",
    "gross_income.head()"
   ]
  },
  {
   "cell_type": "code",
   "execution_count": 5,
   "metadata": {},
   "outputs": [
    {
     "name": "stdout",
     "output_type": "stream",
     "text": [
      "<class 'pandas.core.frame.DataFrame'>\n",
      "RangeIndex: 3387 entries, 0 to 3386\n",
      "Data columns (total 5 columns):\n",
      " #   Column          Non-Null Count  Dtype  \n",
      "---  ------          --------------  -----  \n",
      " 0   title           3387 non-null   object \n",
      " 1   studio          3382 non-null   object \n",
      " 2   domestic_gross  3359 non-null   float64\n",
      " 3   foreign_gross   2037 non-null   object \n",
      " 4   year            3387 non-null   int64  \n",
      "dtypes: float64(1), int64(1), object(3)\n",
      "memory usage: 132.4+ KB\n",
      "None\n",
      "\n",
      "\n",
      "foreign_gross     39.858282\n",
      "domestic_gross     0.826690\n",
      "studio             0.147623\n",
      "year               0.000000\n",
      "title              0.000000\n",
      "dtype: float64\n",
      "\n",
      "\n",
      "Number of duplicates: 0\n",
      "Duplicates:\n",
      "Empty DataFrame\n",
      "Columns: [title, studio, domestic_gross, foreign_gross, year]\n",
      "Index: []\n"
     ]
    },
    {
     "data": {
      "text/plain": [
       "0"
      ]
     },
     "execution_count": 5,
     "metadata": {},
     "output_type": "execute_result"
    }
   ],
   "source": [
    "# Observing the information of the data that the dataset contains\n",
    "print(gross_income.info())\n",
    "\n",
    "# Skips a line to enhance readability\n",
    "print(\"\\n\")\n",
    "\n",
    "# This shows us the number of null values in the columns of the dataset in terms of percentages\n",
    "percent_missing(gross_income)\n",
    "\n",
    "# Skips a line to enhance readability\n",
    "print(\"\\n\") \n",
    "\n",
    "# Checks if there are any duplicates using the 'title' and 'year' columns since some movies can share the same title\n",
    "duplicates(gross_income, ('title','year'))"
   ]
  },
  {
   "cell_type": "markdown",
   "metadata": {},
   "source": [
    "Since we have working with a database, we need to understand the schema of each table that the database contains. "
   ]
  },
  {
   "cell_type": "code",
   "execution_count": 18,
   "metadata": {},
   "outputs": [
    {
     "name": "stdout",
     "output_type": "stream",
     "text": [
      "\n",
      "tables are:\n",
      "   directors\n",
      "   known_for\n",
      "   movie_akas\n",
      "   movie_basics\n",
      "   movie_ratings\n",
      "   persons\n",
      "   principals\n",
      "   writers\n",
      "\n",
      "column names for directors:\n",
      "   movie_id\n",
      "   person_id\n",
      "\n",
      "column names for known_for:\n",
      "   person_id\n",
      "   movie_id\n",
      "\n",
      "column names for movie_akas:\n",
      "   movie_id\n",
      "   ordering\n",
      "   title\n",
      "   region\n",
      "   language\n",
      "   types\n",
      "   attributes\n",
      "   is_original_title\n",
      "\n",
      "column names for movie_basics:\n",
      "   movie_id\n",
      "   primary_title\n",
      "   original_title\n",
      "   start_year\n",
      "   runtime_minutes\n",
      "   genres\n",
      "\n",
      "column names for movie_ratings:\n",
      "   movie_id\n",
      "   averagerating\n",
      "   numvotes\n",
      "\n",
      "column names for persons:\n",
      "   person_id\n",
      "   primary_name\n",
      "   birth_year\n",
      "   death_year\n",
      "   primary_profession\n",
      "\n",
      "column names for principals:\n",
      "   movie_id\n",
      "   ordering\n",
      "   person_id\n",
      "   category\n",
      "   job\n",
      "   characters\n",
      "\n",
      "column names for writers:\n",
      "   movie_id\n",
      "   person_id\n"
     ]
    }
   ],
   "source": [
    "newline_indent = '\\n   '\n",
    "\n",
    "conn.text_factory = str\n",
    "\n",
    "result = cur.execute(\"SELECT name FROM sqlite_master WHERE type='table';\").fetchall()\n",
    "table_names = sorted(list(zip(*result))[0])\n",
    "print (\"\\ntables are:\"+newline_indent+newline_indent.join(table_names))\n",
    "\n",
    "for table_name in table_names:\n",
    "    result = cur.execute(\"PRAGMA table_info('%s')\" % table_name).fetchall()\n",
    "    column_names = list(zip(*result))[1]\n",
    "    print ((\"\\ncolumn names for %s:\" % table_name)\n",
    "           +newline_indent\n",
    "           +(newline_indent.join(column_names)))\n"
   ]
  },
  {
   "cell_type": "markdown",
   "metadata": {},
   "source": [
    "By looking at the schema, we can see that vital information from the 'movies' dataset and the 'reviews' dataset are in the respective tables: 'movie_basics' and 'movie_ratings'. Therefore, we will not be using the two datasets.  "
   ]
  },
  {
   "cell_type": "markdown",
   "metadata": {},
   "source": [
    "## Data preparation\n",
    "---"
   ]
  },
  {
   "cell_type": "markdown",
   "metadata": {},
   "source": [
    "### Dealing with missing values"
   ]
  },
  {
   "cell_type": "markdown",
   "metadata": {},
   "source": [
    "#### Dropping based on null values"
   ]
  },
  {
   "cell_type": "markdown",
   "metadata": {},
   "source": [
    "Let's revisit the datasets to know what columns have missing values, and their respective percentages."
   ]
  },
  {
   "cell_type": "code",
   "execution_count": 40,
   "metadata": {},
   "outputs": [
    {
     "name": "stdout",
     "output_type": "stream",
     "text": [
      "total_gross       40.684972\n",
      "foreign_gross     39.858282\n",
      "domestic_gross     0.826690\n",
      "studio             0.147623\n",
      "year               0.000000\n",
      "title              0.000000\n",
      "dtype: float64\n",
      "Number of duplicates: 0\n",
      "Duplicates:\n",
      "Empty DataFrame\n",
      "Columns: [title, studio, domestic_gross, foreign_gross, year, total_gross]\n",
      "Index: []\n"
     ]
    },
    {
     "data": {
      "text/plain": [
       "0"
      ]
     },
     "execution_count": 40,
     "metadata": {},
     "output_type": "execute_result"
    }
   ],
   "source": [
    "# Shows percentage missing in each column\n",
    "percent_missing(gross_income)\n",
    "\n",
    "# Shows duplicates\n",
    "duplicates(gross_income, ('title','year'))"
   ]
  },
  {
   "cell_type": "markdown",
   "metadata": {},
   "source": [
    "From above, we can see that the 'foreign_gross' column has approximately 40% missing values. However, the data in the column is important. Therefore I will drop rows that contain null values in the 'foreign_gross' column."
   ]
  },
  {
   "cell_type": "code",
   "execution_count": 41,
   "metadata": {},
   "outputs": [
    {
     "name": "stdout",
     "output_type": "stream",
     "text": [
      "total_gross       1.374570\n",
      "domestic_gross    1.374570\n",
      "studio            0.196367\n",
      "year              0.000000\n",
      "foreign_gross     0.000000\n",
      "title             0.000000\n",
      "dtype: float64\n"
     ]
    },
    {
     "data": {
      "text/plain": [
       "0"
      ]
     },
     "execution_count": 41,
     "metadata": {},
     "output_type": "execute_result"
    }
   ],
   "source": [
    "# Drops the rows with null values\n",
    "gross_income = gross_income.dropna(subset=['foreign_gross'])\n",
    "percent_missing(gross_income)"
   ]
  },
  {
   "cell_type": "markdown",
   "metadata": {},
   "source": [
    "The 'domestic_gross' column has a small percentage of missing values. Let's drop the rows that contain null values in the 'domestic_gross' column."
   ]
  },
  {
   "cell_type": "code",
   "execution_count": 42,
   "metadata": {},
   "outputs": [
    {
     "name": "stdout",
     "output_type": "stream",
     "text": [
      "studio            0.099552\n",
      "total_gross       0.000000\n",
      "year              0.000000\n",
      "foreign_gross     0.000000\n",
      "domestic_gross    0.000000\n",
      "title             0.000000\n",
      "dtype: float64\n"
     ]
    },
    {
     "data": {
      "text/plain": [
       "0"
      ]
     },
     "execution_count": 42,
     "metadata": {},
     "output_type": "execute_result"
    }
   ],
   "source": [
    "# Drops rows that contain null values in the 'domestic_gross' column\n",
    "gross_income = gross_income.dropna(subset=['domestic_gross'])\n",
    "percent_missing(gross_income)"
   ]
  },
  {
   "cell_type": "markdown",
   "metadata": {},
   "source": [
    "The data is clean now as we do not have any missing values."
   ]
  },
  {
   "cell_type": "code",
   "execution_count": 10,
   "metadata": {},
   "outputs": [
    {
     "name": "stdout",
     "output_type": "stream",
     "text": [
      "<class 'pandas.core.frame.DataFrame'>\n",
      "Int64Index: 2009 entries, 0 to 3353\n",
      "Data columns (total 5 columns):\n",
      " #   Column          Non-Null Count  Dtype  \n",
      "---  ------          --------------  -----  \n",
      " 0   title           2009 non-null   object \n",
      " 1   studio          2007 non-null   object \n",
      " 2   domestic_gross  2009 non-null   float64\n",
      " 3   foreign_gross   2009 non-null   object \n",
      " 4   year            2009 non-null   int64  \n",
      "dtypes: float64(1), int64(1), object(3)\n",
      "memory usage: 94.2+ KB\n"
     ]
    }
   ],
   "source": [
    "gross_income.info()"
   ]
  },
  {
   "cell_type": "markdown",
   "metadata": {},
   "source": [
    "From above, we can see that 'foreign_gross' is of an object data type."
   ]
  },
  {
   "cell_type": "code",
   "execution_count": 11,
   "metadata": {},
   "outputs": [
    {
     "ename": "ValueError",
     "evalue": "Unable to parse string \"1,131.6\" at position 1277",
     "output_type": "error",
     "traceback": [
      "\u001b[1;31m---------------------------------------------------------------------------\u001b[0m",
      "\u001b[1;31mValueError\u001b[0m                                Traceback (most recent call last)",
      "\u001b[1;32mpandas\\_libs\\lib.pyx\u001b[0m in \u001b[0;36mpandas._libs.lib.maybe_convert_numeric\u001b[1;34m()\u001b[0m\n",
      "\u001b[1;31mValueError\u001b[0m: Unable to parse string \"1,131.6\"",
      "\nDuring handling of the above exception, another exception occurred:\n",
      "\u001b[1;31mValueError\u001b[0m                                Traceback (most recent call last)",
      "\u001b[1;32m<ipython-input-11-90939da7930a>\u001b[0m in \u001b[0;36m<module>\u001b[1;34m\u001b[0m\n\u001b[0;32m      1\u001b[0m \u001b[1;31m# Converts data to numeric\u001b[0m\u001b[1;33m\u001b[0m\u001b[1;33m\u001b[0m\u001b[1;33m\u001b[0m\u001b[0m\n\u001b[1;32m----> 2\u001b[1;33m \u001b[0mgross_income\u001b[0m\u001b[1;33m[\u001b[0m\u001b[1;34m'foreign_gross'\u001b[0m\u001b[1;33m]\u001b[0m \u001b[1;33m=\u001b[0m \u001b[0mpd\u001b[0m\u001b[1;33m.\u001b[0m\u001b[0mto_numeric\u001b[0m\u001b[1;33m(\u001b[0m\u001b[0mgross_income\u001b[0m\u001b[1;33m[\u001b[0m\u001b[1;34m'foreign_gross'\u001b[0m\u001b[1;33m]\u001b[0m\u001b[1;33m)\u001b[0m\u001b[1;33m\u001b[0m\u001b[1;33m\u001b[0m\u001b[0m\n\u001b[0m",
      "\u001b[1;32m~\\anaconda3\\envs\\learn-env\\lib\\site-packages\\pandas\\core\\tools\\numeric.py\u001b[0m in \u001b[0;36mto_numeric\u001b[1;34m(arg, errors, downcast)\u001b[0m\n\u001b[0;32m    150\u001b[0m         \u001b[0mcoerce_numeric\u001b[0m \u001b[1;33m=\u001b[0m \u001b[0merrors\u001b[0m \u001b[1;32mnot\u001b[0m \u001b[1;32min\u001b[0m \u001b[1;33m(\u001b[0m\u001b[1;34m\"ignore\"\u001b[0m\u001b[1;33m,\u001b[0m \u001b[1;34m\"raise\"\u001b[0m\u001b[1;33m)\u001b[0m\u001b[1;33m\u001b[0m\u001b[1;33m\u001b[0m\u001b[0m\n\u001b[0;32m    151\u001b[0m         \u001b[1;32mtry\u001b[0m\u001b[1;33m:\u001b[0m\u001b[1;33m\u001b[0m\u001b[1;33m\u001b[0m\u001b[0m\n\u001b[1;32m--> 152\u001b[1;33m             values = lib.maybe_convert_numeric(\n\u001b[0m\u001b[0;32m    153\u001b[0m                 \u001b[0mvalues\u001b[0m\u001b[1;33m,\u001b[0m \u001b[0mset\u001b[0m\u001b[1;33m(\u001b[0m\u001b[1;33m)\u001b[0m\u001b[1;33m,\u001b[0m \u001b[0mcoerce_numeric\u001b[0m\u001b[1;33m=\u001b[0m\u001b[0mcoerce_numeric\u001b[0m\u001b[1;33m\u001b[0m\u001b[1;33m\u001b[0m\u001b[0m\n\u001b[0;32m    154\u001b[0m             )\n",
      "\u001b[1;32mpandas\\_libs\\lib.pyx\u001b[0m in \u001b[0;36mpandas._libs.lib.maybe_convert_numeric\u001b[1;34m()\u001b[0m\n",
      "\u001b[1;31mValueError\u001b[0m: Unable to parse string \"1,131.6\" at position 1277"
     ]
    }
   ],
   "source": [
    "# Converts data to numeric\n",
    "gross_income['foreign_gross'] = pd.to_numeric(gross_income['foreign_gross'])"
   ]
  },
  {
   "cell_type": "markdown",
   "metadata": {},
   "source": [
    "The error tells us that '1,131.6' is a string and cannot be parsed. This is due to the number having a comma. Let's remove the comma."
   ]
  },
  {
   "cell_type": "code",
   "execution_count": 35,
   "metadata": {},
   "outputs": [],
   "source": [
    "# Removes the comma\n",
    "gross_income['foreign_gross'] = gross_income['foreign_gross'].str.replace(',','')\n",
    "\n",
    "# Converts data to numeric (float64)\n",
    "gross_income['foreign_gross'] = pd.to_numeric(gross_income['foreign_gross'])"
   ]
  },
  {
   "cell_type": "markdown",
   "metadata": {},
   "source": [
    "Let's add a new column 'total_gross' that is the result of 'domestic_gross' + 'foreign_gross'."
   ]
  },
  {
   "cell_type": "code",
   "execution_count": 36,
   "metadata": {},
   "outputs": [],
   "source": [
    "# Adds the column together in order to create the 'total_gross' column\n",
    "gross_income['total_gross'] = gross_income['domestic_gross'] + gross_income['foreign_gross']"
   ]
  },
  {
   "cell_type": "code",
   "execution_count": 37,
   "metadata": {},
   "outputs": [
    {
     "name": "stdout",
     "output_type": "stream",
     "text": [
      "<class 'pandas.core.frame.DataFrame'>\n",
      "RangeIndex: 3387 entries, 0 to 3386\n",
      "Data columns (total 6 columns):\n",
      " #   Column          Non-Null Count  Dtype  \n",
      "---  ------          --------------  -----  \n",
      " 0   title           3387 non-null   object \n",
      " 1   studio          3382 non-null   object \n",
      " 2   domestic_gross  3359 non-null   float64\n",
      " 3   foreign_gross   2037 non-null   float64\n",
      " 4   year            3387 non-null   int64  \n",
      " 5   total_gross     2009 non-null   float64\n",
      "dtypes: float64(3), int64(1), object(2)\n",
      "memory usage: 158.9+ KB\n"
     ]
    }
   ],
   "source": [
    "gross_income.info()"
   ]
  },
  {
   "cell_type": "markdown",
   "metadata": {},
   "source": [
    "## Data visualization\n",
    "---"
   ]
  },
  {
   "cell_type": "markdown",
   "metadata": {},
   "source": [
    "Let's create visualizations that will help us in making recommendations."
   ]
  },
  {
   "cell_type": "markdown",
   "metadata": {},
   "source": [
    "### What genre of movies should they make?"
   ]
  },
  {
   "cell_type": "code",
   "execution_count": 19,
   "metadata": {},
   "outputs": [],
   "source": [
    "# Query the database to obtain the genres data\n",
    "q = \"\"\"\n",
    "    SELECT primary_title ,genres, averagerating\n",
    "    FROM movie_basics\n",
    "    JOIN movie_ratings\n",
    "    ON movie_basics.movie_id = movie_ratings.movie_id\n",
    "    \"\"\"\n",
    "df = pd.read_sql(q, conn)"
   ]
  },
  {
   "cell_type": "markdown",
   "metadata": {},
   "source": [
    "Let's observe the genres."
   ]
  },
  {
   "cell_type": "code",
   "execution_count": 20,
   "metadata": {},
   "outputs": [
    {
     "data": {
      "text/html": [
       "<div>\n",
       "<style scoped>\n",
       "    .dataframe tbody tr th:only-of-type {\n",
       "        vertical-align: middle;\n",
       "    }\n",
       "\n",
       "    .dataframe tbody tr th {\n",
       "        vertical-align: top;\n",
       "    }\n",
       "\n",
       "    .dataframe thead th {\n",
       "        text-align: right;\n",
       "    }\n",
       "</style>\n",
       "<table border=\"1\" class=\"dataframe\">\n",
       "  <thead>\n",
       "    <tr style=\"text-align: right;\">\n",
       "      <th></th>\n",
       "      <th>primary_title</th>\n",
       "      <th>genres</th>\n",
       "      <th>averagerating</th>\n",
       "    </tr>\n",
       "  </thead>\n",
       "  <tbody>\n",
       "    <tr>\n",
       "      <th>0</th>\n",
       "      <td>Sunghursh</td>\n",
       "      <td>Action,Crime,Drama</td>\n",
       "      <td>7.0</td>\n",
       "    </tr>\n",
       "    <tr>\n",
       "      <th>1</th>\n",
       "      <td>One Day Before the Rainy Season</td>\n",
       "      <td>Biography,Drama</td>\n",
       "      <td>7.2</td>\n",
       "    </tr>\n",
       "    <tr>\n",
       "      <th>2</th>\n",
       "      <td>The Other Side of the Wind</td>\n",
       "      <td>Drama</td>\n",
       "      <td>6.9</td>\n",
       "    </tr>\n",
       "    <tr>\n",
       "      <th>3</th>\n",
       "      <td>Sabse Bada Sukh</td>\n",
       "      <td>Comedy,Drama</td>\n",
       "      <td>6.1</td>\n",
       "    </tr>\n",
       "    <tr>\n",
       "      <th>4</th>\n",
       "      <td>The Wandering Soap Opera</td>\n",
       "      <td>Comedy,Drama,Fantasy</td>\n",
       "      <td>6.5</td>\n",
       "    </tr>\n",
       "    <tr>\n",
       "      <th>...</th>\n",
       "      <td>...</td>\n",
       "      <td>...</td>\n",
       "      <td>...</td>\n",
       "    </tr>\n",
       "    <tr>\n",
       "      <th>73851</th>\n",
       "      <td>Diabolik sono io</td>\n",
       "      <td>Documentary</td>\n",
       "      <td>6.2</td>\n",
       "    </tr>\n",
       "    <tr>\n",
       "      <th>73852</th>\n",
       "      <td>Sokagin Çocuklari</td>\n",
       "      <td>Drama,Family</td>\n",
       "      <td>8.7</td>\n",
       "    </tr>\n",
       "    <tr>\n",
       "      <th>73853</th>\n",
       "      <td>Albatross</td>\n",
       "      <td>Documentary</td>\n",
       "      <td>8.5</td>\n",
       "    </tr>\n",
       "    <tr>\n",
       "      <th>73854</th>\n",
       "      <td>La vida sense la Sara Amat</td>\n",
       "      <td>None</td>\n",
       "      <td>6.6</td>\n",
       "    </tr>\n",
       "    <tr>\n",
       "      <th>73855</th>\n",
       "      <td>Drømmeland</td>\n",
       "      <td>Documentary</td>\n",
       "      <td>6.5</td>\n",
       "    </tr>\n",
       "  </tbody>\n",
       "</table>\n",
       "<p>73856 rows × 3 columns</p>\n",
       "</div>"
      ],
      "text/plain": [
       "                         primary_title                genres  averagerating\n",
       "0                            Sunghursh    Action,Crime,Drama            7.0\n",
       "1      One Day Before the Rainy Season       Biography,Drama            7.2\n",
       "2           The Other Side of the Wind                 Drama            6.9\n",
       "3                      Sabse Bada Sukh          Comedy,Drama            6.1\n",
       "4             The Wandering Soap Opera  Comedy,Drama,Fantasy            6.5\n",
       "...                                ...                   ...            ...\n",
       "73851                 Diabolik sono io           Documentary            6.2\n",
       "73852                Sokagin Çocuklari          Drama,Family            8.7\n",
       "73853                        Albatross           Documentary            8.5\n",
       "73854       La vida sense la Sara Amat                  None            6.6\n",
       "73855                       Drømmeland           Documentary            6.5\n",
       "\n",
       "[73856 rows x 3 columns]"
      ]
     },
     "execution_count": 20,
     "metadata": {},
     "output_type": "execute_result"
    }
   ],
   "source": [
    "df"
   ]
  },
  {
   "cell_type": "markdown",
   "metadata": {},
   "source": [
    "First, let's check if there are duplicates and missing values."
   ]
  },
  {
   "cell_type": "code",
   "execution_count": 21,
   "metadata": {},
   "outputs": [
    {
     "name": "stdout",
     "output_type": "stream",
     "text": [
      "Number of duplicates: 3863\n",
      "Duplicates:\n",
      "                         primary_title                genres  averagerating\n",
      "804    Raggarjävlar (Swedish Greasers)           Documentary            6.9\n",
      "1264                          The Door                 Drama            6.5\n",
      "1841                               Eva  Drama,Fantasy,Sci-Fi            6.7\n",
      "1960                      Lost in Love                 Drama            7.2\n",
      "1985                           Morning                 Drama            5.8\n",
      "...                                ...                   ...            ...\n",
      "73832                         Columbus                Comedy            5.8\n",
      "73836                           Jessie       Horror,Thriller            8.5\n",
      "73845                      Unstoppable           Documentary            8.1\n",
      "73853                        Albatross           Documentary            8.5\n",
      "73855                       Drømmeland           Documentary            6.5\n",
      "\n",
      "[3863 rows x 3 columns]\n",
      "\n",
      "--------\n",
      "\n",
      "genres           1.088605\n",
      "averagerating    0.000000\n",
      "primary_title    0.000000\n",
      "dtype: float64\n"
     ]
    },
    {
     "data": {
      "text/plain": [
       "0"
      ]
     },
     "execution_count": 21,
     "metadata": {},
     "output_type": "execute_result"
    }
   ],
   "source": [
    "# Shows the duplicates and the percentage of missing values in each column\n",
    "duplicates(df, 'primary_title')\n",
    "print(\"\\n--------\\n\")\n",
    "percent_missing(df)"
   ]
  },
  {
   "cell_type": "markdown",
   "metadata": {},
   "source": [
    "Let's drop the rows with missing values and the duplicates."
   ]
  },
  {
   "cell_type": "code",
   "execution_count": 22,
   "metadata": {},
   "outputs": [
    {
     "name": "stdout",
     "output_type": "stream",
     "text": [
      "Number of duplicates: 0\n",
      "Duplicates:\n",
      "Empty DataFrame\n",
      "Columns: [primary_title, genres, averagerating]\n",
      "Index: []\n",
      "\n",
      "--------\n",
      "\n",
      "averagerating    0.0\n",
      "genres           0.0\n",
      "primary_title    0.0\n",
      "dtype: float64\n"
     ]
    },
    {
     "data": {
      "text/plain": [
       "0"
      ]
     },
     "execution_count": 22,
     "metadata": {},
     "output_type": "execute_result"
    }
   ],
   "source": [
    "# Drops rows with null values in the genres column\n",
    "df.dropna(subset=['genres'], inplace=True)\n",
    "# Drops rows with duplicates in the primary_title column\n",
    "df.drop_duplicates(subset = 'primary_title', inplace=True)\n",
    "\n",
    "# Shows the duplicates and percentage of missing values per columns for confirmation\n",
    "duplicates(df, 'primary_title')\n",
    "print(\"\\n--------\\n\")\n",
    "percent_missing(df)"
   ]
  },
  {
   "cell_type": "markdown",
   "metadata": {},
   "source": [
    "Some titles are categorized in different genres. That will be difficult for us to visualize with. Let's separate them so we can get a proper count of movies in a particular genre."
   ]
  },
  {
   "cell_type": "code",
   "execution_count": 23,
   "metadata": {},
   "outputs": [
    {
     "data": {
      "text/plain": [
       "0      [Action, Crime, Drama]\n",
       "1          [Biography, Drama]\n",
       "2                     [Drama]\n",
       "3             [Comedy, Drama]\n",
       "4    [Comedy, Drama, Fantasy]\n",
       "Name: genres, dtype: object"
      ]
     },
     "execution_count": 23,
     "metadata": {},
     "output_type": "execute_result"
    }
   ],
   "source": [
    "# Extracts the genres column and converts each value to a list\n",
    "genre_series = df['genres'].dropna().apply(lambda x: x.split(','))\n",
    "genre_series.head()"
   ]
  },
  {
   "cell_type": "markdown",
   "metadata": {},
   "source": [
    "They still are not separated, but at least each value is now iterable which will make our work easier. Below we will create a list with dictionaries of every genre that is associated with a particular movie and the associated rating of that movie."
   ]
  },
  {
   "cell_type": "code",
   "execution_count": 24,
   "metadata": {},
   "outputs": [
    {
     "data": {
      "text/plain": [
       "[{'Action': 7.0},\n",
       " {'Crime': 7.0},\n",
       " {'Drama': 7.0},\n",
       " {'Biography': 7.2},\n",
       " {'Drama': 7.2}]"
      ]
     },
     "execution_count": 24,
     "metadata": {},
     "output_type": "execute_result"
    }
   ],
   "source": [
    "# This concatenates genre_series and the averagerating column from the dataset\n",
    "genre_series1 = pd.concat([genre_series, df['averagerating']], axis = 1)\n",
    "\n",
    "# The code below converts the series to lists so that they can be iterable\n",
    "genres_list = df['genres'].tolist()\n",
    "rating_list = df['averagerating'].tolist()\n",
    "\n",
    "# The code below creates the list which the individual dicitonaries\n",
    "genres_ratings_list = []\n",
    "counter = 0\n",
    "for list in genres_list:\n",
    "    tmp = list.split(',')\n",
    "    for entry in tmp:\n",
    "        tmp1 = {}\n",
    "        tmp1[entry] = rating_list[counter]\n",
    "        genres_ratings_list.append(tmp1)\n",
    "    counter = counter + 1\n",
    "\n",
    "genres_ratings_list[:5]"
   ]
  },
  {
   "cell_type": "markdown",
   "metadata": {},
   "source": [
    "Our dataset is now prepared, let's now make visualizations."
   ]
  },
  {
   "cell_type": "markdown",
   "metadata": {},
   "source": [
    "### First Question"
   ]
  },
  {
   "cell_type": "markdown",
   "metadata": {},
   "source": [
    "What genre of movies do studios generally focus on while making movies with? In other words, what amount of movies are either Drama, Comedy, Thriller, e.t.c"
   ]
  },
  {
   "cell_type": "code",
   "execution_count": 25,
   "metadata": {},
   "outputs": [
    {
     "data": {
      "image/png": "[encoded data removed]",
      "text/plain": [
       "<Figure size 864x432 with 1 Axes>"
      ]
     },
     "metadata": {
      "needs_background": "light"
     },
     "output_type": "display_data"
    }
   ],
   "source": [
    "# This provides the distribution of genres\n",
    "genres = [genre for sublist in genre_series for genre in sublist]\n",
    "genre_counts = pd.Series(genres).value_counts()\n",
    "\n",
    "# This is visualizing the data\n",
    "plt.figure(figsize=(12, 6))\n",
    "sns.barplot(x=genre_counts.values, y=genre_counts.index)\n",
    "plt.title('Top 20 Movie Genres')\n",
    "plt.xlabel('Count')\n",
    "plt.ylabel('Genre')\n",
    "plt.grid(True, axis='x')\n",
    "plt.show()"
   ]
  },
  {
   "cell_type": "markdown",
   "metadata": {},
   "source": [
    "From the above visualization, we can see the top 3 genres that had the most movies made were Drama, Documentary and Comedy in order. This could mean that the more the demand the more the supply, so it would be sensible to make a movie which can be a documentary, drama or a comedy."
   ]
  },
  {
   "cell_type": "markdown",
   "metadata": {},
   "source": [
    "### Second Question"
   ]
  },
  {
   "cell_type": "markdown",
   "metadata": {},
   "source": [
    "What genre of movies have the highest average ratings? Let's find out using the genres list we created. But since the list has ratings for every individual movie, we are going to use the values to calculate average ratings for every genre as a whole, using the ratings associated with its movie."
   ]
  },
  {
   "cell_type": "code",
   "execution_count": 49,
   "metadata": {},
   "outputs": [
    {
     "data": {
      "text/plain": [
       "['Drama',\n",
       " 'Documentary',\n",
       " 'Comedy',\n",
       " 'Thriller',\n",
       " 'Horror',\n",
       " 'Action',\n",
       " 'Romance',\n",
       " 'Crime',\n",
       " 'Biography',\n",
       " 'Adventure',\n",
       " 'Family',\n",
       " 'Mystery',\n",
       " 'History',\n",
       " 'Sci-Fi',\n",
       " 'Fantasy',\n",
       " 'Music',\n",
       " 'Animation',\n",
       " 'Sport',\n",
       " 'War',\n",
       " 'Musical',\n",
       " 'News',\n",
       " 'Western',\n",
       " 'Reality-TV',\n",
       " 'Adult',\n",
       " 'Game-Show',\n",
       " 'Short']"
      ]
     },
     "execution_count": 49,
     "metadata": {},
     "output_type": "execute_result"
    }
   ],
   "source": [
    "# Converts the genres list to a list with its distinct values\n",
    "genres_list = pd.Series(genres).value_counts().index.to_list()\n",
    "genres_list"
   ]
  },
  {
   "cell_type": "code",
   "execution_count": 27,
   "metadata": {},
   "outputs": [],
   "source": [
    "#Create a value_counts function that will help us will getting the average rating per genre\n",
    "value_counts = pd.Series(genres).value_counts()"
   ]
  },
  {
   "cell_type": "code",
   "execution_count": 28,
   "metadata": {},
   "outputs": [
    {
     "data": {
      "text/plain": [
       "Drama          6.403203\n",
       "Documentary    7.334903\n",
       "Comedy         5.995563\n",
       "Thriller       5.629908\n",
       "Horror         4.996785\n",
       "Action         5.819636\n",
       "Romance        6.140393\n",
       "Crime          6.115381\n",
       "Biography      7.172160\n",
       "Adventure      6.201390\n",
       "Family         6.387929\n",
       "Mystery        5.915514\n",
       "History        7.048954\n",
       "Sci-Fi         5.494118\n",
       "Fantasy        5.928593\n",
       "Music          7.107636\n",
       "Animation      6.247920\n",
       "Sport          6.974844\n",
       "War            6.592089\n",
       "Musical        6.485116\n",
       "News           7.273535\n",
       "Western        5.871483\n",
       "Reality-TV     6.500000\n",
       "Adult          3.766667\n",
       "Game-Show      7.300000\n",
       "Short          8.800000\n",
       "dtype: float64"
      ]
     },
     "execution_count": 28,
     "metadata": {},
     "output_type": "execute_result"
    }
   ],
   "source": [
    "# Dictionary that will contain the averages for each genre\n",
    "genre_averagerating = {}\n",
    "\n",
    "for genre in genres_list:\n",
    "    rating = 0\n",
    "    # For each genre, the loop will look for a matching genre, of a particular movie, and add the rating associated to it\n",
    "    for entry in genres_ratings_list:\n",
    "        for key, value in entry.items():\n",
    "            if key == genre:\n",
    "                rating = rating + value\n",
    "    # Calculates the average\n",
    "    average_rating = rating/value_counts[genre]\n",
    "    # Adds to dictionary\n",
    "    genre_averagerating[genre] = average_rating\n",
    "    # Convert to series for visualizing\n",
    "    genre_averagerating = pd.Series(genre_averagerating)\n",
    "\n",
    "genre_averagerating"
   ]
  },
  {
   "cell_type": "code",
   "execution_count": 196,
   "metadata": {},
   "outputs": [
    {
     "data": {
      "image/png": "[encoded data removed]",
      "text/plain": [
       "<Figure size 864x432 with 1 Axes>"
      ]
     },
     "metadata": {
      "needs_background": "light"
     },
     "output_type": "display_data"
    }
   ],
   "source": [
    "# This is visualizing the data\n",
    "plt.figure(figsize=(12, 6))\n",
    "sns.barplot(x=genre_averagerating.values, y=genre_averagerating.index)\n",
    "plt.title('Genres by their average rating')\n",
    "plt.xlabel('Count')\n",
    "plt.ylabel('Average rating')\n",
    "plt.grid(True, axis='x')\n",
    "plt.show()"
   ]
  },
  {
   "cell_type": "markdown",
   "metadata": {},
   "source": [
    "From the above visualization, we can see Short had the highest average rating of over 8.5. However, in our previous visualization, we can see that Short had the lowest number of movies produced, so that is misleading. The ones that come after are news, documentary, biography, music, adventure and history. In our previous visualization, we saw that documentaries was the genre that had the second most titles produced. The number large number of documentaries produced supports the claim that documentaries are more likely to be enjoyed."
   ]
  },
  {
   "cell_type": "markdown",
   "metadata": {},
   "source": [
    "### Third question"
   ]
  },
  {
   "cell_type": "markdown",
   "metadata": {},
   "source": [
    "Which genres make the most money? Let's find out. First, let's revisit the gross_income dataset."
   ]
  },
  {
   "cell_type": "code",
   "execution_count": 29,
   "metadata": {},
   "outputs": [
    {
     "data": {
      "text/html": [
       "<div>\n",
       "<style scoped>\n",
       "    .dataframe tbody tr th:only-of-type {\n",
       "        vertical-align: middle;\n",
       "    }\n",
       "\n",
       "    .dataframe tbody tr th {\n",
       "        vertical-align: top;\n",
       "    }\n",
       "\n",
       "    .dataframe thead th {\n",
       "        text-align: right;\n",
       "    }\n",
       "</style>\n",
       "<table border=\"1\" class=\"dataframe\">\n",
       "  <thead>\n",
       "    <tr style=\"text-align: right;\">\n",
       "      <th></th>\n",
       "      <th>title</th>\n",
       "      <th>studio</th>\n",
       "      <th>domestic_gross</th>\n",
       "      <th>foreign_gross</th>\n",
       "      <th>year</th>\n",
       "    </tr>\n",
       "  </thead>\n",
       "  <tbody>\n",
       "    <tr>\n",
       "      <th>0</th>\n",
       "      <td>Toy Story 3</td>\n",
       "      <td>BV</td>\n",
       "      <td>415000000.0</td>\n",
       "      <td>652000000</td>\n",
       "      <td>2010</td>\n",
       "    </tr>\n",
       "    <tr>\n",
       "      <th>1</th>\n",
       "      <td>Alice in Wonderland (2010)</td>\n",
       "      <td>BV</td>\n",
       "      <td>334200000.0</td>\n",
       "      <td>691300000</td>\n",
       "      <td>2010</td>\n",
       "    </tr>\n",
       "    <tr>\n",
       "      <th>2</th>\n",
       "      <td>Harry Potter and the Deathly Hallows Part 1</td>\n",
       "      <td>WB</td>\n",
       "      <td>296000000.0</td>\n",
       "      <td>664300000</td>\n",
       "      <td>2010</td>\n",
       "    </tr>\n",
       "    <tr>\n",
       "      <th>3</th>\n",
       "      <td>Inception</td>\n",
       "      <td>WB</td>\n",
       "      <td>292600000.0</td>\n",
       "      <td>535700000</td>\n",
       "      <td>2010</td>\n",
       "    </tr>\n",
       "    <tr>\n",
       "      <th>4</th>\n",
       "      <td>Shrek Forever After</td>\n",
       "      <td>P/DW</td>\n",
       "      <td>238700000.0</td>\n",
       "      <td>513900000</td>\n",
       "      <td>2010</td>\n",
       "    </tr>\n",
       "  </tbody>\n",
       "</table>\n",
       "</div>"
      ],
      "text/plain": [
       "                                         title studio  domestic_gross  \\\n",
       "0                                  Toy Story 3     BV     415000000.0   \n",
       "1                   Alice in Wonderland (2010)     BV     334200000.0   \n",
       "2  Harry Potter and the Deathly Hallows Part 1     WB     296000000.0   \n",
       "3                                    Inception     WB     292600000.0   \n",
       "4                          Shrek Forever After   P/DW     238700000.0   \n",
       "\n",
       "  foreign_gross  year  \n",
       "0     652000000  2010  \n",
       "1     691300000  2010  \n",
       "2     664300000  2010  \n",
       "3     535700000  2010  \n",
       "4     513900000  2010  "
      ]
     },
     "execution_count": 29,
     "metadata": {},
     "output_type": "execute_result"
    }
   ],
   "source": [
    "gross_income.head()"
   ]
  },
  {
   "cell_type": "markdown",
   "metadata": {},
   "source": [
    "For this, I will be comparing the genres of the titles by the total_gross. This will require us to query the database. Let's do that below."
   ]
  },
  {
   "cell_type": "code",
   "execution_count": 30,
   "metadata": {},
   "outputs": [
    {
     "data": {
      "text/html": [
       "<div>\n",
       "<style scoped>\n",
       "    .dataframe tbody tr th:only-of-type {\n",
       "        vertical-align: middle;\n",
       "    }\n",
       "\n",
       "    .dataframe tbody tr th {\n",
       "        vertical-align: top;\n",
       "    }\n",
       "\n",
       "    .dataframe thead th {\n",
       "        text-align: right;\n",
       "    }\n",
       "</style>\n",
       "<table border=\"1\" class=\"dataframe\">\n",
       "  <thead>\n",
       "    <tr style=\"text-align: right;\">\n",
       "      <th></th>\n",
       "      <th>primary_title</th>\n",
       "      <th>genres</th>\n",
       "    </tr>\n",
       "  </thead>\n",
       "  <tbody>\n",
       "    <tr>\n",
       "      <th>0</th>\n",
       "      <td>Sunghursh</td>\n",
       "      <td>Action,Crime,Drama</td>\n",
       "    </tr>\n",
       "    <tr>\n",
       "      <th>1</th>\n",
       "      <td>One Day Before the Rainy Season</td>\n",
       "      <td>Biography,Drama</td>\n",
       "    </tr>\n",
       "    <tr>\n",
       "      <th>2</th>\n",
       "      <td>The Other Side of the Wind</td>\n",
       "      <td>Drama</td>\n",
       "    </tr>\n",
       "    <tr>\n",
       "      <th>3</th>\n",
       "      <td>Sabse Bada Sukh</td>\n",
       "      <td>Comedy,Drama</td>\n",
       "    </tr>\n",
       "    <tr>\n",
       "      <th>4</th>\n",
       "      <td>The Wandering Soap Opera</td>\n",
       "      <td>Comedy,Drama,Fantasy</td>\n",
       "    </tr>\n",
       "    <tr>\n",
       "      <th>...</th>\n",
       "      <td>...</td>\n",
       "      <td>...</td>\n",
       "    </tr>\n",
       "    <tr>\n",
       "      <th>146139</th>\n",
       "      <td>Kuambil Lagi Hatiku</td>\n",
       "      <td>Drama</td>\n",
       "    </tr>\n",
       "    <tr>\n",
       "      <th>146140</th>\n",
       "      <td>Rodolpho Teóphilo - O Legado de um Pioneiro</td>\n",
       "      <td>Documentary</td>\n",
       "    </tr>\n",
       "    <tr>\n",
       "      <th>146141</th>\n",
       "      <td>Dankyavar Danka</td>\n",
       "      <td>Comedy</td>\n",
       "    </tr>\n",
       "    <tr>\n",
       "      <th>146142</th>\n",
       "      <td>6 Gunn</td>\n",
       "      <td>None</td>\n",
       "    </tr>\n",
       "    <tr>\n",
       "      <th>146143</th>\n",
       "      <td>Chico Albuquerque - Revelações</td>\n",
       "      <td>Documentary</td>\n",
       "    </tr>\n",
       "  </tbody>\n",
       "</table>\n",
       "<p>146144 rows × 2 columns</p>\n",
       "</div>"
      ],
      "text/plain": [
       "                                      primary_title                genres\n",
       "0                                         Sunghursh    Action,Crime,Drama\n",
       "1                   One Day Before the Rainy Season       Biography,Drama\n",
       "2                        The Other Side of the Wind                 Drama\n",
       "3                                   Sabse Bada Sukh          Comedy,Drama\n",
       "4                          The Wandering Soap Opera  Comedy,Drama,Fantasy\n",
       "...                                             ...                   ...\n",
       "146139                          Kuambil Lagi Hatiku                 Drama\n",
       "146140  Rodolpho Teóphilo - O Legado de um Pioneiro           Documentary\n",
       "146141                              Dankyavar Danka                Comedy\n",
       "146142                                       6 Gunn                  None\n",
       "146143               Chico Albuquerque - Revelações           Documentary\n",
       "\n",
       "[146144 rows x 2 columns]"
      ]
     },
     "execution_count": 30,
     "metadata": {},
     "output_type": "execute_result"
    }
   ],
   "source": [
    "# Queries the database for the primary_title and genres\n",
    "q = \"\"\"\n",
    "    SELECT primary_title, genres\n",
    "    FROM movie_basics\n",
    "    \"\"\"\n",
    "# Assigns the dataframe to a variable\n",
    "df = pd.read_sql(q, conn)\n",
    "df"
   ]
  },
  {
   "cell_type": "markdown",
   "metadata": {},
   "source": [
    "What we need to do next is merge the two dataframes (gross_income and df) based on similar values in the primary_title and title columns. Let's do that."
   ]
  },
  {
   "cell_type": "code",
   "execution_count": 44,
   "metadata": {},
   "outputs": [
    {
     "data": {
      "text/html": [
       "<div>\n",
       "<style scoped>\n",
       "    .dataframe tbody tr th:only-of-type {\n",
       "        vertical-align: middle;\n",
       "    }\n",
       "\n",
       "    .dataframe tbody tr th {\n",
       "        vertical-align: top;\n",
       "    }\n",
       "\n",
       "    .dataframe thead th {\n",
       "        text-align: right;\n",
       "    }\n",
       "</style>\n",
       "<table border=\"1\" class=\"dataframe\">\n",
       "  <thead>\n",
       "    <tr style=\"text-align: right;\">\n",
       "      <th></th>\n",
       "      <th>title</th>\n",
       "      <th>studio</th>\n",
       "      <th>domestic_gross</th>\n",
       "      <th>foreign_gross</th>\n",
       "      <th>year</th>\n",
       "      <th>total_gross</th>\n",
       "      <th>primary_title</th>\n",
       "      <th>genres</th>\n",
       "    </tr>\n",
       "  </thead>\n",
       "  <tbody>\n",
       "    <tr>\n",
       "      <th>0</th>\n",
       "      <td>Toy Story 3</td>\n",
       "      <td>BV</td>\n",
       "      <td>415000000.0</td>\n",
       "      <td>652000000.0</td>\n",
       "      <td>2010</td>\n",
       "      <td>1.067000e+09</td>\n",
       "      <td>Toy Story 3</td>\n",
       "      <td>Adventure,Animation,Comedy</td>\n",
       "    </tr>\n",
       "    <tr>\n",
       "      <th>1</th>\n",
       "      <td>Inception</td>\n",
       "      <td>WB</td>\n",
       "      <td>292600000.0</td>\n",
       "      <td>535700000.0</td>\n",
       "      <td>2010</td>\n",
       "      <td>8.283000e+08</td>\n",
       "      <td>Inception</td>\n",
       "      <td>Action,Adventure,Sci-Fi</td>\n",
       "    </tr>\n",
       "    <tr>\n",
       "      <th>2</th>\n",
       "      <td>Shrek Forever After</td>\n",
       "      <td>P/DW</td>\n",
       "      <td>238700000.0</td>\n",
       "      <td>513900000.0</td>\n",
       "      <td>2010</td>\n",
       "      <td>7.526000e+08</td>\n",
       "      <td>Shrek Forever After</td>\n",
       "      <td>Adventure,Animation,Comedy</td>\n",
       "    </tr>\n",
       "    <tr>\n",
       "      <th>3</th>\n",
       "      <td>The Twilight Saga: Eclipse</td>\n",
       "      <td>Sum.</td>\n",
       "      <td>300500000.0</td>\n",
       "      <td>398000000.0</td>\n",
       "      <td>2010</td>\n",
       "      <td>6.985000e+08</td>\n",
       "      <td>The Twilight Saga: Eclipse</td>\n",
       "      <td>Adventure,Drama,Fantasy</td>\n",
       "    </tr>\n",
       "    <tr>\n",
       "      <th>4</th>\n",
       "      <td>Iron Man 2</td>\n",
       "      <td>Par.</td>\n",
       "      <td>312400000.0</td>\n",
       "      <td>311500000.0</td>\n",
       "      <td>2010</td>\n",
       "      <td>6.239000e+08</td>\n",
       "      <td>Iron Man 2</td>\n",
       "      <td>Action,Adventure,Sci-Fi</td>\n",
       "    </tr>\n",
       "    <tr>\n",
       "      <th>...</th>\n",
       "      <td>...</td>\n",
       "      <td>...</td>\n",
       "      <td>...</td>\n",
       "      <td>...</td>\n",
       "      <td>...</td>\n",
       "      <td>...</td>\n",
       "      <td>...</td>\n",
       "      <td>...</td>\n",
       "    </tr>\n",
       "    <tr>\n",
       "      <th>2014</th>\n",
       "      <td>Bilal: A New Breed of Hero</td>\n",
       "      <td>VE</td>\n",
       "      <td>491000.0</td>\n",
       "      <td>1700000.0</td>\n",
       "      <td>2018</td>\n",
       "      <td>2.191000e+06</td>\n",
       "      <td>Bilal: A New Breed of Hero</td>\n",
       "      <td>Action,Adventure,Animation</td>\n",
       "    </tr>\n",
       "    <tr>\n",
       "      <th>2015</th>\n",
       "      <td>I Still See You</td>\n",
       "      <td>LGF</td>\n",
       "      <td>1400.0</td>\n",
       "      <td>1500000.0</td>\n",
       "      <td>2018</td>\n",
       "      <td>1.501400e+06</td>\n",
       "      <td>I Still See You</td>\n",
       "      <td>Fantasy,Thriller</td>\n",
       "    </tr>\n",
       "    <tr>\n",
       "      <th>2016</th>\n",
       "      <td>The Catcher Was a Spy</td>\n",
       "      <td>IFC</td>\n",
       "      <td>725000.0</td>\n",
       "      <td>229000.0</td>\n",
       "      <td>2018</td>\n",
       "      <td>9.540000e+05</td>\n",
       "      <td>The Catcher Was a Spy</td>\n",
       "      <td>Biography,Drama,War</td>\n",
       "    </tr>\n",
       "    <tr>\n",
       "      <th>2017</th>\n",
       "      <td>Time Freak</td>\n",
       "      <td>Grindstone</td>\n",
       "      <td>10000.0</td>\n",
       "      <td>256000.0</td>\n",
       "      <td>2018</td>\n",
       "      <td>2.660000e+05</td>\n",
       "      <td>Time Freak</td>\n",
       "      <td>Comedy,Drama,Romance</td>\n",
       "    </tr>\n",
       "    <tr>\n",
       "      <th>2018</th>\n",
       "      <td>Antonio Lopez 1970: Sex Fashion &amp; Disco</td>\n",
       "      <td>FM</td>\n",
       "      <td>43200.0</td>\n",
       "      <td>30000.0</td>\n",
       "      <td>2018</td>\n",
       "      <td>7.320000e+04</td>\n",
       "      <td>Antonio Lopez 1970: Sex Fashion &amp; Disco</td>\n",
       "      <td>Biography,Documentary</td>\n",
       "    </tr>\n",
       "  </tbody>\n",
       "</table>\n",
       "<p>2019 rows × 8 columns</p>\n",
       "</div>"
      ],
      "text/plain": [
       "                                        title      studio  domestic_gross  \\\n",
       "0                                 Toy Story 3          BV     415000000.0   \n",
       "1                                   Inception          WB     292600000.0   \n",
       "2                         Shrek Forever After        P/DW     238700000.0   \n",
       "3                  The Twilight Saga: Eclipse        Sum.     300500000.0   \n",
       "4                                  Iron Man 2        Par.     312400000.0   \n",
       "...                                       ...         ...             ...   \n",
       "2014               Bilal: A New Breed of Hero          VE        491000.0   \n",
       "2015                          I Still See You         LGF          1400.0   \n",
       "2016                    The Catcher Was a Spy         IFC        725000.0   \n",
       "2017                               Time Freak  Grindstone         10000.0   \n",
       "2018  Antonio Lopez 1970: Sex Fashion & Disco          FM         43200.0   \n",
       "\n",
       "      foreign_gross  year   total_gross  \\\n",
       "0       652000000.0  2010  1.067000e+09   \n",
       "1       535700000.0  2010  8.283000e+08   \n",
       "2       513900000.0  2010  7.526000e+08   \n",
       "3       398000000.0  2010  6.985000e+08   \n",
       "4       311500000.0  2010  6.239000e+08   \n",
       "...             ...   ...           ...   \n",
       "2014      1700000.0  2018  2.191000e+06   \n",
       "2015      1500000.0  2018  1.501400e+06   \n",
       "2016       229000.0  2018  9.540000e+05   \n",
       "2017       256000.0  2018  2.660000e+05   \n",
       "2018        30000.0  2018  7.320000e+04   \n",
       "\n",
       "                                primary_title                      genres  \n",
       "0                                 Toy Story 3  Adventure,Animation,Comedy  \n",
       "1                                   Inception     Action,Adventure,Sci-Fi  \n",
       "2                         Shrek Forever After  Adventure,Animation,Comedy  \n",
       "3                  The Twilight Saga: Eclipse     Adventure,Drama,Fantasy  \n",
       "4                                  Iron Man 2     Action,Adventure,Sci-Fi  \n",
       "...                                       ...                         ...  \n",
       "2014               Bilal: A New Breed of Hero  Action,Adventure,Animation  \n",
       "2015                          I Still See You            Fantasy,Thriller  \n",
       "2016                    The Catcher Was a Spy         Biography,Drama,War  \n",
       "2017                               Time Freak        Comedy,Drama,Romance  \n",
       "2018  Antonio Lopez 1970: Sex Fashion & Disco       Biography,Documentary  \n",
       "\n",
       "[2019 rows x 8 columns]"
      ]
     },
     "execution_count": 44,
     "metadata": {},
     "output_type": "execute_result"
    }
   ],
   "source": [
    "# Merges gross_income and df (the dataframe from above) based on similar values title and primary_title\n",
    "df2 = gross_income.merge(df, how='inner', left_on='title', right_on='primary_title')\n",
    "df2"
   ]
  },
  {
   "cell_type": "markdown",
   "metadata": {},
   "source": [
    "Before we use it, we need to check if there is missing data either in the 'genres' column or the 'total_gross' column as those are the important columns."
   ]
  },
  {
   "cell_type": "code",
   "execution_count": 45,
   "metadata": {},
   "outputs": [
    {
     "name": "stdout",
     "output_type": "stream",
     "text": [
      "genres            1.337296\n",
      "primary_title     0.000000\n",
      "total_gross       0.000000\n",
      "year              0.000000\n",
      "foreign_gross     0.000000\n",
      "domestic_gross    0.000000\n",
      "studio            0.000000\n",
      "title             0.000000\n",
      "dtype: float64\n"
     ]
    },
    {
     "data": {
      "text/plain": [
       "0"
      ]
     },
     "execution_count": 45,
     "metadata": {},
     "output_type": "execute_result"
    }
   ],
   "source": [
    "# Shows the percentage of missing values in each column in the dataframe\n",
    "percent_missing(df2)"
   ]
  },
  {
   "cell_type": "markdown",
   "metadata": {},
   "source": [
    "There are some missing values in the 'genres' column. Let's drop the rows with missing values in the 'genres' column."
   ]
  },
  {
   "cell_type": "code",
   "execution_count": 46,
   "metadata": {},
   "outputs": [
    {
     "name": "stdout",
     "output_type": "stream",
     "text": [
      "genres            0.0\n",
      "primary_title     0.0\n",
      "total_gross       0.0\n",
      "year              0.0\n",
      "foreign_gross     0.0\n",
      "domestic_gross    0.0\n",
      "studio            0.0\n",
      "title             0.0\n",
      "dtype: float64\n"
     ]
    },
    {
     "data": {
      "text/plain": [
       "0"
      ]
     },
     "execution_count": 46,
     "metadata": {},
     "output_type": "execute_result"
    }
   ],
   "source": [
    "# Drops rows with null values in the genres column\n",
    "df2 = df2.dropna(subset=['genres'])\n",
    "\n",
    "# Shows the percentage of missing values per column for confirmation\n",
    "percent_missing(df2)"
   ]
  },
  {
   "cell_type": "markdown",
   "metadata": {},
   "source": [
    "What we need to do next is similar to the second question. We need to take the average total gross income that each genre made using the data of the associated movies. In the second question we had made a list of distinct values of genres, let's revisit it."
   ]
  },
  {
   "cell_type": "code",
   "execution_count": 222,
   "metadata": {},
   "outputs": [
    {
     "data": {
      "text/plain": [
       "['Drama',\n",
       " 'Documentary',\n",
       " 'Comedy',\n",
       " 'Thriller',\n",
       " 'Horror',\n",
       " 'Action',\n",
       " 'Romance',\n",
       " 'Crime',\n",
       " 'Biography',\n",
       " 'Adventure',\n",
       " 'Family',\n",
       " 'Mystery',\n",
       " 'History',\n",
       " 'Sci-Fi',\n",
       " 'Fantasy',\n",
       " 'Music',\n",
       " 'Animation',\n",
       " 'Sport',\n",
       " 'War',\n",
       " 'Musical',\n",
       " 'News',\n",
       " 'Western',\n",
       " 'Reality-TV',\n",
       " 'Adult',\n",
       " 'Game-Show',\n",
       " 'Short']"
      ]
     },
     "execution_count": 222,
     "metadata": {},
     "output_type": "execute_result"
    }
   ],
   "source": [
    "genres_list"
   ]
  },
  {
   "cell_type": "code",
   "execution_count": 47,
   "metadata": {},
   "outputs": [
    {
     "data": {
      "text/plain": [
       "[{'Adventure': 1067000000.0},\n",
       " {'Animation': 1067000000.0},\n",
       " {'Comedy': 1067000000.0},\n",
       " {'Action': 828300000.0},\n",
       " {'Adventure': 828300000.0}]"
      ]
     },
     "execution_count": 47,
     "metadata": {},
     "output_type": "execute_result"
    }
   ],
   "source": [
    "# The code below converts the series to lists so that they can be iterable\n",
    "genres_list = df2['genres'].tolist()\n",
    "gross_list = df2['total_gross'].tolist()\n",
    "\n",
    "# The code below creates the list which the individual dicitonaries\n",
    "genres_gross_list = []\n",
    "counter = 0\n",
    "for list in genres_list:\n",
    "    tmp = list.split(',')\n",
    "    for entry in tmp:\n",
    "        tmp1 = {}\n",
    "        tmp1[entry] = gross_list[counter]\n",
    "        genres_gross_list.append(tmp1)\n",
    "    counter = counter + 1\n",
    "\n",
    "genres_gross_list[:5]"
   ]
  },
  {
   "cell_type": "code",
   "execution_count": 52,
   "metadata": {},
   "outputs": [
    {
     "data": {
      "text/plain": [
       "Drama          2.501712e+06\n",
       "Documentary    6.536185e+05\n",
       "Comedy         4.693984e+06\n",
       "Thriller       4.709292e+06\n",
       "Horror         2.257044e+06\n",
       "Action         1.626551e+07\n",
       "Romance        2.609668e+06\n",
       "Crime          4.438156e+06\n",
       "Biography      3.720011e+06\n",
       "Adventure      3.265904e+07\n",
       "Family         4.223122e+06\n",
       "Mystery        4.313807e+06\n",
       "History        2.406576e+06\n",
       "Sci-Fi         1.862513e+07\n",
       "Fantasy        1.374168e+07\n",
       "Music          1.915755e+06\n",
       "Animation      2.310236e+07\n",
       "Sport          3.856602e+06\n",
       "War            9.949529e+05\n",
       "Musical        1.857998e+06\n",
       "News           1.236306e+05\n",
       "Western        4.539400e+06\n",
       "Reality-TV     0.000000e+00\n",
       "Adult          0.000000e+00\n",
       "Game-Show      0.000000e+00\n",
       "Short          0.000000e+00\n",
       "dtype: float64"
      ]
     },
     "execution_count": 52,
     "metadata": {},
     "output_type": "execute_result"
    }
   ],
   "source": [
    "# Dictionary that will contain the averages for each genre\n",
    "genre_average_gross = {}\n",
    "\n",
    "for genre in genres_list:\n",
    "    gross = 0\n",
    "    # For each genre, the loop will look for a matching genre, of a particular movie, and add the total gross income associated to it\n",
    "    for entry in genres_gross_list:\n",
    "        for key, value in entry.items():\n",
    "            if key == genre:\n",
    "                gross = gross + value\n",
    "    # Calculates the average\n",
    "    average_gross = gross/value_counts[genre]\n",
    "    # Adds to dictionary\n",
    "    genre_average_gross[genre] = average_gross\n",
    "    # Convert to series for visualizing\n",
    "    genre_average_gross = pd.Series(genre_average_gross)\n",
    "\n",
    "genre_average_gross"
   ]
  },
  {
   "cell_type": "code",
   "execution_count": 55,
   "metadata": {},
   "outputs": [
    {
     "data": {
      "image/png": "[encoded data removed]",
      "text/plain": [
       "<Figure size 864x432 with 1 Axes>"
      ]
     },
     "metadata": {
      "needs_background": "light"
     },
     "output_type": "display_data"
    }
   ],
   "source": [
    "# This is visualizing the data\n",
    "plt.figure(figsize=(12, 6))\n",
    "sns.barplot(x=genre_average_gross.values, y=genre_average_gross.index)\n",
    "plt.title('Average income per genre')\n",
    "plt.xlabel('Million')\n",
    "plt.ylabel('Genre')\n",
    "plt.grid(True, axis='x')\n",
    "plt.show()"
   ]
  },
  {
   "cell_type": "markdown",
   "metadata": {},
   "source": [
    "From the visualization, we can see the movies that were associated with the 'Adventure' genre made the most gross income, followed by 'Animation','Sci-Fi' and 'Action'."
   ]
  },
  {
   "cell_type": "markdown",
   "metadata": {},
   "source": [
    "## Recommendations"
   ]
  },
  {
   "cell_type": "markdown",
   "metadata": {},
   "source": [
    "From the last two visualizations, we can see that the adventure genre had a good average rating (approximately 7) and it accrues the most gross income among all genres. Moreover, from the data, we can see that only less than 5000 titles have been produced. This shows that there is a potential desire for adventure movies. The same does apply to animation and Sci-Fi as they get an approximate of an average rating of 6 and over 5 respectively and they are second and third in most gross income respectively and both also have less than 5000 titles that were produced. Therefore, from my analysis, I would recommend making adventure, animation and/or sci-fi titles."
   ]
  }
 ],
 "metadata": {
  "kernelspec": {
   "display_name": "Python (learn-env)",
   "language": "python",
   "name": "learn-env"
  },
  "language_info": {
   "codemirror_mode": {
    "name": "ipython",
    "version": 3
   },
   "file_extension": ".py",
   "mimetype": "text/x-python",
   "name": "python",
   "nbconvert_exporter": "python",
   "pygments_lexer": "ipython3",
   "version": "3.8.5"
  }
 },
 "nbformat": 4,
 "nbformat_minor": 5
}
